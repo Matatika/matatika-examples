{
  "nbformat": 4,
  "nbformat_minor": 0,
  "metadata": {
    "colab": {
      "name": "simple-jupyter-publish.ipynb",
      "provenance": [],
      "collapsed_sections": [],
      "toc_visible": true
    },
    "kernelspec": {
      "name": "python3",
      "display_name": "Python 3"
    }
  },
  "cells": [
    {
      "cell_type": "markdown",
      "metadata": {
        "id": "zY-hGDHju8Nv",
        "colab_type": "text"
      },
      "source": [
        "Install matatika"
      ]
    },
    {
      "cell_type": "code",
      "metadata": {
        "id": "WsMDv417JwUq",
        "colab_type": "code",
        "colab": {
          "base_uri": "https://localhost:8080/",
          "height": 632
        },
        "outputId": "3a65f568-1736-47ba-b1b3-23c5f289988f"
      },
      "source": [
        "# %%capture\n",
        "%pip install matatika -U"
      ],
      "execution_count": null,
      "outputs": [
        {
          "output_type": "stream",
          "text": [
            "Collecting matatika\n",
            "  Downloading https://files.pythonhosted.org/packages/77/98/5e9a7dcd39fa3c45951b01c6e6af1c629c28420793540c2e34f62588fde5/matatika-1.0.7.post2-py3-none-any.whl\n",
            "Collecting dataclasses==0.6\n",
            "  Downloading https://files.pythonhosted.org/packages/26/2f/1095cdc2868052dd1e64520f7c0d5c8c550ad297e944e641dbf1ffbb9a5d/dataclasses-0.6-py3-none-any.whl\n",
            "Collecting python-dotenv==0.14.0\n",
            "  Downloading https://files.pythonhosted.org/packages/f2/16/28d434b28c5be29a6af8fd0e3a2bda3bd30500ef0cd17bc79f7a6793a8d4/python_dotenv-0.14.0-py2.py3-none-any.whl\n",
            "Collecting pyyaml==5.3.1\n",
            "\u001b[?25l  Downloading https://files.pythonhosted.org/packages/64/c2/b80047c7ac2478f9501676c988a5411ed5572f35d1beff9cae07d321512c/PyYAML-5.3.1.tar.gz (269kB)\n",
            "\u001b[K     |████████████████████████████████| 276kB 8.2MB/s \n",
            "\u001b[?25hCollecting requests==2.24.0\n",
            "\u001b[?25l  Downloading https://files.pythonhosted.org/packages/45/1e/0c169c6a5381e241ba7404532c16a21d86ab872c9bed8bdcd4c423954103/requests-2.24.0-py2.py3-none-any.whl (61kB)\n",
            "\u001b[K     |████████████████████████████████| 71kB 7.7MB/s \n",
            "\u001b[?25hRequirement already satisfied, skipping upgrade: click==7.1.2 in /usr/local/lib/python3.6/dist-packages (from matatika) (7.1.2)\n",
            "Requirement already satisfied, skipping upgrade: urllib3!=1.25.0,!=1.25.1,<1.26,>=1.21.1 in /usr/local/lib/python3.6/dist-packages (from requests==2.24.0->matatika) (1.24.3)\n",
            "Requirement already satisfied, skipping upgrade: chardet<4,>=3.0.2 in /usr/local/lib/python3.6/dist-packages (from requests==2.24.0->matatika) (3.0.4)\n",
            "Requirement already satisfied, skipping upgrade: idna<3,>=2.5 in /usr/local/lib/python3.6/dist-packages (from requests==2.24.0->matatika) (2.10)\n",
            "Requirement already satisfied, skipping upgrade: certifi>=2017.4.17 in /usr/local/lib/python3.6/dist-packages (from requests==2.24.0->matatika) (2020.6.20)\n",
            "Building wheels for collected packages: pyyaml\n",
            "  Building wheel for pyyaml (setup.py) ... \u001b[?25l\u001b[?25hdone\n",
            "  Created wheel for pyyaml: filename=PyYAML-5.3.1-cp36-cp36m-linux_x86_64.whl size=44619 sha256=44a8100f5252010054ff1ac3ac0d0fa6009872730972eebb3be443695ed1c5fc\n",
            "  Stored in directory: /root/.cache/pip/wheels/a7/c1/ea/cf5bd31012e735dc1dfea3131a2d5eae7978b251083d6247bd\n",
            "Successfully built pyyaml\n",
            "\u001b[31mERROR: google-colab 1.0.0 has requirement requests~=2.23.0, but you'll have requests 2.24.0 which is incompatible.\u001b[0m\n",
            "\u001b[31mERROR: datascience 0.10.6 has requirement folium==0.2.1, but you'll have folium 0.8.3 which is incompatible.\u001b[0m\n",
            "Installing collected packages: dataclasses, python-dotenv, pyyaml, requests, matatika\n",
            "  Found existing installation: dataclasses 0.7\n",
            "    Uninstalling dataclasses-0.7:\n",
            "      Successfully uninstalled dataclasses-0.7\n",
            "  Found existing installation: PyYAML 3.13\n",
            "    Uninstalling PyYAML-3.13:\n",
            "      Successfully uninstalled PyYAML-3.13\n",
            "  Found existing installation: requests 2.23.0\n",
            "    Uninstalling requests-2.23.0:\n",
            "      Successfully uninstalled requests-2.23.0\n",
            "Successfully installed dataclasses-0.6 matatika-1.0.7.post2 python-dotenv-0.14.0 pyyaml-5.3.1 requests-2.24.0\n"
          ],
          "name": "stdout"
        }
      ]
    },
    {
      "cell_type": "markdown",
      "metadata": {
        "id": "23Jy-_4GLL5z",
        "colab_type": "text"
      },
      "source": [
        "Create `rawData` using a list of lists"
      ]
    },
    {
      "cell_type": "code",
      "metadata": {
        "id": "N4_ISqmmJyOE",
        "colab_type": "code",
        "colab": {
          "base_uri": "https://localhost:8080/",
          "height": 224
        },
        "outputId": "2a649cb2-f0fb-4ba4-fcd0-f368fd6c363a"
      },
      "source": [
        "rawData = [\n",
        "           [\"Planet\", \"Orbit Distance (Light-hours)\",\"Orbit Duration (Earth-years)\"],\n",
        "           [\"Mercury\", 0.3336, 0.2500],\n",
        "           [\"Venus\", 0.6300, 0.5833],\n",
        "           [\"Earth\", 0.8708, 1],\n",
        "           [\"Mars\", 1.3242, 1.9167],\n",
        "           [\"Jupiter\", 4.5287, 11.8333],\n",
        "           [\"Saturn\", 8.2997, 29.5000],\n",
        "           [\"Uranus\", 16.7030, 84.0833],\n",
        "           [\"Neptune\", 26.1883, 164.9167],\n",
        "           [\"Pluto\", 33.8475, 248.0833]\n",
        "]\n",
        "\n",
        "import json\n",
        "\n",
        "datasets = {\n",
        "    \n",
        "    'planet-orbits': {\n",
        "        'title': 'Planet Orbits in Our Solar System',\n",
        "        'description': '''\n",
        "        ''',\n",
        "        'questions': 'How many Earth-years does it take for Jupiter to orbit the sun?',\n",
        "        'rawData': json.dumps(rawData),\n",
        "        'visualisation': json.dumps({\n",
        "            'google-chart': {\n",
        "                'chartType': 'ColumnChart'\n",
        "            }\n",
        "        })\n",
        "    },\n",
        "\n",
        "    'qt2': {\n",
        "        'title': 'query test 2',\n",
        "        'description': '''\n",
        "        ''',\n",
        "        'questions': 'How many Earth-years does it take for Jupiter to orbit the sun?',\n",
        "        'query': \"SELECT EXTRACT('YEAR' FROM \\\"google_analytics_monthly_comparison_stats\\\".\\\"month_start\\\") \\\"google_analytics_monthly_comparison_stats.month_start.year\\\",EXTRACT('MONTH' FROM \\\"google_analytics_monthly_comparison_stats\\\".\\\"month_start\\\") \\\"google_analytics_monthly_comparison_stats.month_start.month\\\",COALESCE(AVG(\\\"google_analytics_monthly_comparison_stats\\\".\\\"users_increase_percent\\\"),0) \\\"google_analytics_monthly_comparison_stats.avg_users_incr\\\",COALESCE(AVG(\\\"google_analytics_monthly_comparison_stats\\\".\\\"new_users_increase_percent\\\"),0) \\\"google_analytics_monthly_comparison_stats.avg_new_users_incr\\\",COALESCE(AVG(\\\"google_analytics_monthly_comparison_stats\\\".\\\"sessions_increase_percent\\\"),0) \\\"google_analytics_monthly_comparison_stats.avg_sessions_incr\\\",COALESCE(AVG(\\\"google_analytics_monthly_comparison_stats\\\".\\\"bounce_rate_increase_percent\\\"),0) \\\"google_analytics_monthly_comparison_stats.avg_bounce_rate_incr\\\",COALESCE(AVG(\\\"google_analytics_monthly_comparison_stats\\\".\\\"avg_session_duration_increase_percent\\\"),0) \\\"google_analytics_monthly_comparison_stats.avg_session_dur_incr\\\" FROM \\\"google_analytics_monthly_comparison_stats\\\" \\\"google_analytics_monthly_comparison_stats\\\" WHERE \\\"google_analytics_monthly_comparison_stats\\\".\\\"month_start\\\">=DATE(DATE(NOW())-INTERVAL '366 DAY') AND \\\"google_analytics_monthly_comparison_stats\\\".\\\"month_start\\\"<=DATE(DATE(NOW())-INTERVAL '1 DAY') AND \\\"google_analytics_monthly_comparison_stats\\\".\\\"month_start\\\">=DATE(DATE(NOW())-INTERVAL '366 DAY') AND \\\"google_analytics_monthly_comparison_stats\\\".\\\"month_start\\\"<=DATE(DATE(NOW())-INTERVAL '1 DAY') GROUP BY \\\"google_analytics_monthly_comparison_stats.month_start.year\\\",\\\"google_analytics_monthly_comparison_stats.month_start.month\\\" ORDER BY \\\"google_analytics_monthly_comparison_stats.month_start.year\\\" ASC,\\\"google_analytics_monthly_comparison_stats.month_start.month\\\" ASC LIMIT 50;\",\n",
        "        'metadata': \"{\\\"name\\\": \\\"google_analytics_monthly_comparison_stats\\\", \\\"label\\\": \\\"Monthly Comparison Stats\\\", \\\"from\\\": \\\"google_analytics_monthly_comparison_stats\\\", \\\"related_table\\\": {\\\"columns\\\": [{\\\"name\\\": \\\"year\\\", \\\"primary_key\\\": true, \\\"hidden\\\": false, \\\"label\\\": \\\"Year\\\", \\\"description\\\": \\\"Year\\\", \\\"type\\\": \\\"string\\\", \\\"sql\\\": \\\"{{table}}.year\\\", \\\"key\\\": \\\"google_analytics_monthly_comparison_stats.year\\\"}, {\\\"name\\\": \\\"month\\\", \\\"primary_key\\\": true, \\\"hidden\\\": false, \\\"label\\\": \\\"Month\\\", \\\"description\\\": \\\"Month\\\", \\\"type\\\": \\\"string\\\", \\\"sql\\\": \\\"{{table}}.month\\\", \\\"key\\\": \\\"google_analytics_monthly_comparison_stats.month\\\"}, {\\\"name\\\": \\\"month_start\\\", \\\"label\\\": \\\"Month Start Date\\\", \\\"type\\\": \\\"date\\\", \\\"sql\\\": \\\"{{table}}.month_start\\\", \\\"key\\\": \\\"google_analytics_monthly_comparison_stats.month_start\\\"}], \\\"aggregates\\\": [{\\\"name\\\": \\\"total_users\\\", \\\"label\\\": \\\"Total Users\\\", \\\"description\\\": \\\"Total Users\\\", \\\"type\\\": \\\"sum\\\", \\\"sql\\\": \\\"{{table}}.users\\\", \\\"key\\\": \\\"google_analytics_monthly_comparison_stats.total_users\\\"}, {\\\"name\\\": \\\"avg_users_incr\\\", \\\"label\\\": \\\"Users Increase Percent (%)\\\", \\\"description\\\": \\\"Users Increase Percent (%)\\\", \\\"type\\\": \\\"avg\\\", \\\"sql\\\": \\\"{{table}}.users_increase_percent\\\", \\\"key\\\": \\\"google_analytics_monthly_comparison_stats.avg_users_incr\\\"}, {\\\"name\\\": \\\"total_new_users\\\", \\\"label\\\": \\\"Total New Users\\\", \\\"description\\\": \\\"Total New Users\\\", \\\"type\\\": \\\"sum\\\", \\\"sql\\\": \\\"{{table}}.new_users\\\", \\\"key\\\": \\\"google_analytics_monthly_comparison_stats.total_new_users\\\"}, {\\\"name\\\": \\\"avg_new_users_incr\\\", \\\"label\\\": \\\"New Users Increase Percent (%)\\\", \\\"description\\\": \\\"New Users Increase Percent (%)\\\", \\\"type\\\": \\\"avg\\\", \\\"sql\\\": \\\"{{table}}.new_users_increase_percent\\\", \\\"key\\\": \\\"google_analytics_monthly_comparison_stats.avg_new_users_incr\\\"}, {\\\"name\\\": \\\"total_sessions\\\", \\\"label\\\": \\\"Total Sessions\\\", \\\"description\\\": \\\"Total Sessions\\\", \\\"type\\\": \\\"sum\\\", \\\"sql\\\": \\\"{{table}}.sessions\\\", \\\"key\\\": \\\"google_analytics_monthly_comparison_stats.total_sessions\\\"}, {\\\"name\\\": \\\"avg_sessions_incr\\\", \\\"label\\\": \\\"Sessions Increase Percent (%)\\\", \\\"description\\\": \\\"Sessions Increase Percent (%)\\\", \\\"type\\\": \\\"avg\\\", \\\"sql\\\": \\\"{{table}}.sessions_increase_percent\\\", \\\"key\\\": \\\"google_analytics_monthly_comparison_stats.avg_sessions_incr\\\"}, {\\\"name\\\": \\\"avg_bounce_rate\\\", \\\"label\\\": \\\"Average Bounce Rate (%)\\\", \\\"description\\\": \\\"Average Bounce Rate (%)\\\", \\\"type\\\": \\\"avg\\\", \\\"sql\\\": \\\"{{table}}.bounce_rate\\\", \\\"key\\\": \\\"google_analytics_monthly_comparison_stats.avg_bounce_rate\\\"}, {\\\"name\\\": \\\"avg_bounce_rate_incr\\\", \\\"label\\\": \\\"Bounce Rate Increase Percent (%)\\\", \\\"description\\\": \\\"Bounce Rate Increase Percent (%)\\\", \\\"type\\\": \\\"avg\\\", \\\"sql\\\": \\\"{{table}}.bounce_rate_increase_percent\\\", \\\"key\\\": \\\"google_analytics_monthly_comparison_stats.avg_bounce_rate_incr\\\"}, {\\\"name\\\": \\\"avg_session_duration\\\", \\\"label\\\": \\\"Average Session Duration\\\", \\\"description\\\": \\\"Average Session Duration\\\", \\\"type\\\": \\\"avg\\\", \\\"sql\\\": \\\"{{table}}.avg_session_duration\\\", \\\"key\\\": \\\"google_analytics_monthly_comparison_stats.avg_session_duration\\\"}, {\\\"name\\\": \\\"avg_session_dur_incr\\\", \\\"label\\\": \\\"Session Duration Increase Percent (%)\\\", \\\"description\\\": \\\"Session Duration Increase Percent (%)\\\", \\\"type\\\": \\\"avg\\\", \\\"sql\\\": \\\"{{table}}.avg_session_duration_increase_percent\\\", \\\"key\\\": \\\"google_analytics_monthly_comparison_stats.avg_session_dur_incr\\\"}], \\\"timeframes\\\": [{\\\"name\\\": \\\"month_start\\\", \\\"label\\\": \\\"Month\\\", \\\"sql\\\": \\\"{{table}}.month_start\\\", \\\"type\\\": \\\"time\\\", \\\"periods\\\": [{\\\"name\\\": \\\"year\\\", \\\"label\\\": \\\"Year\\\", \\\"part\\\": \\\"YEAR\\\", \\\"key\\\": \\\"google_analytics_monthly_comparison_stats.month_start.year\\\"}, {\\\"name\\\": \\\"quarter\\\", \\\"label\\\": \\\"Quarter\\\", \\\"part\\\": \\\"QUARTER\\\", \\\"key\\\": \\\"google_analytics_monthly_comparison_stats.month_start.quarter\\\"}, {\\\"name\\\": \\\"month\\\", \\\"label\\\": \\\"Month\\\", \\\"part\\\": \\\"MONTH\\\", \\\"key\\\": \\\"google_analytics_monthly_comparison_stats.month_start.month\\\"}], \\\"key\\\": \\\"google_analytics_monthly_comparison_stats.month_start\\\"}], \\\"version\\\": 1, \\\"sql_table_name\\\": \\\"google_analytics_monthly_comparison_stats\\\", \\\"name\\\": \\\"google_analytics_monthly_comparison_stats\\\", \\\"_file_path\\\": \\\"/home/aphethean/projects/test-meltano/creativeskills-test/.meltano/models/model-google-analytics/venv/lib/python3.7/site-packages/models/google_analytics_monthly_comparison_stats.table.m5o\\\"}, \\\"description\\\": \\\"Monthly Comparison Stats\\\", \\\"graph\\\": {\\\"directed\\\": true, \\\"multigraph\\\": false, \\\"graph\\\": {}, \\\"nodes\\\": [{\\\"id\\\": \\\"google_analytics_monthly_comparison_stats\\\"}], \\\"links\\\": []}}\",\n",
        "        'visualisation': json.dumps({\n",
        "            'chartjs-chart': {\n",
        "                'chartType': 'line'\n",
        "            }\n",
        "        })\n",
        "    }\n",
        "\n",
        "}\n",
        "\n",
        "datasets"
      ],
      "execution_count": null,
      "outputs": [
        {
          "output_type": "execute_result",
          "data": {
            "text/plain": [
              "{'planet-orbits': {'description': '\\n        ',\n",
              "  'questions': 'How many Earth-years does it take for Jupiter to orbit the sun?',\n",
              "  'rawData': '[[\"Planet\", \"Orbit Distance (Light-hours)\", \"Orbit Duration (Earth-years)\"], [\"Mercury\", 0.3336, 0.25], [\"Venus\", 0.63, 0.5833], [\"Earth\", 0.8708, 1], [\"Mars\", 1.3242, 1.9167], [\"Jupiter\", 4.5287, 11.8333], [\"Saturn\", 8.2997, 29.5], [\"Uranus\", 16.703, 84.0833], [\"Neptune\", 26.1883, 164.9167], [\"Pluto\", 33.8475, 248.0833]]',\n",
              "  'title': 'Planet Orbits in Our Solar System',\n",
              "  'visualisation': '{\"google-chart\": {\"chartType\": \"ColumnChart\"}}'},\n",
              " 'qt2': {'description': '\\n        ',\n",
              "  'metadata': '{\"name\": \"google_analytics_monthly_comparison_stats\", \"label\": \"Monthly Comparison Stats\", \"from\": \"google_analytics_monthly_comparison_stats\", \"related_table\": {\"columns\": [{\"name\": \"year\", \"primary_key\": true, \"hidden\": false, \"label\": \"Year\", \"description\": \"Year\", \"type\": \"string\", \"sql\": \"{{table}}.year\", \"key\": \"google_analytics_monthly_comparison_stats.year\"}, {\"name\": \"month\", \"primary_key\": true, \"hidden\": false, \"label\": \"Month\", \"description\": \"Month\", \"type\": \"string\", \"sql\": \"{{table}}.month\", \"key\": \"google_analytics_monthly_comparison_stats.month\"}, {\"name\": \"month_start\", \"label\": \"Month Start Date\", \"type\": \"date\", \"sql\": \"{{table}}.month_start\", \"key\": \"google_analytics_monthly_comparison_stats.month_start\"}], \"aggregates\": [{\"name\": \"total_users\", \"label\": \"Total Users\", \"description\": \"Total Users\", \"type\": \"sum\", \"sql\": \"{{table}}.users\", \"key\": \"google_analytics_monthly_comparison_stats.total_users\"}, {\"name\": \"avg_users_incr\", \"label\": \"Users Increase Percent (%)\", \"description\": \"Users Increase Percent (%)\", \"type\": \"avg\", \"sql\": \"{{table}}.users_increase_percent\", \"key\": \"google_analytics_monthly_comparison_stats.avg_users_incr\"}, {\"name\": \"total_new_users\", \"label\": \"Total New Users\", \"description\": \"Total New Users\", \"type\": \"sum\", \"sql\": \"{{table}}.new_users\", \"key\": \"google_analytics_monthly_comparison_stats.total_new_users\"}, {\"name\": \"avg_new_users_incr\", \"label\": \"New Users Increase Percent (%)\", \"description\": \"New Users Increase Percent (%)\", \"type\": \"avg\", \"sql\": \"{{table}}.new_users_increase_percent\", \"key\": \"google_analytics_monthly_comparison_stats.avg_new_users_incr\"}, {\"name\": \"total_sessions\", \"label\": \"Total Sessions\", \"description\": \"Total Sessions\", \"type\": \"sum\", \"sql\": \"{{table}}.sessions\", \"key\": \"google_analytics_monthly_comparison_stats.total_sessions\"}, {\"name\": \"avg_sessions_incr\", \"label\": \"Sessions Increase Percent (%)\", \"description\": \"Sessions Increase Percent (%)\", \"type\": \"avg\", \"sql\": \"{{table}}.sessions_increase_percent\", \"key\": \"google_analytics_monthly_comparison_stats.avg_sessions_incr\"}, {\"name\": \"avg_bounce_rate\", \"label\": \"Average Bounce Rate (%)\", \"description\": \"Average Bounce Rate (%)\", \"type\": \"avg\", \"sql\": \"{{table}}.bounce_rate\", \"key\": \"google_analytics_monthly_comparison_stats.avg_bounce_rate\"}, {\"name\": \"avg_bounce_rate_incr\", \"label\": \"Bounce Rate Increase Percent (%)\", \"description\": \"Bounce Rate Increase Percent (%)\", \"type\": \"avg\", \"sql\": \"{{table}}.bounce_rate_increase_percent\", \"key\": \"google_analytics_monthly_comparison_stats.avg_bounce_rate_incr\"}, {\"name\": \"avg_session_duration\", \"label\": \"Average Session Duration\", \"description\": \"Average Session Duration\", \"type\": \"avg\", \"sql\": \"{{table}}.avg_session_duration\", \"key\": \"google_analytics_monthly_comparison_stats.avg_session_duration\"}, {\"name\": \"avg_session_dur_incr\", \"label\": \"Session Duration Increase Percent (%)\", \"description\": \"Session Duration Increase Percent (%)\", \"type\": \"avg\", \"sql\": \"{{table}}.avg_session_duration_increase_percent\", \"key\": \"google_analytics_monthly_comparison_stats.avg_session_dur_incr\"}], \"timeframes\": [{\"name\": \"month_start\", \"label\": \"Month\", \"sql\": \"{{table}}.month_start\", \"type\": \"time\", \"periods\": [{\"name\": \"year\", \"label\": \"Year\", \"part\": \"YEAR\", \"key\": \"google_analytics_monthly_comparison_stats.month_start.year\"}, {\"name\": \"quarter\", \"label\": \"Quarter\", \"part\": \"QUARTER\", \"key\": \"google_analytics_monthly_comparison_stats.month_start.quarter\"}, {\"name\": \"month\", \"label\": \"Month\", \"part\": \"MONTH\", \"key\": \"google_analytics_monthly_comparison_stats.month_start.month\"}], \"key\": \"google_analytics_monthly_comparison_stats.month_start\"}], \"version\": 1, \"sql_table_name\": \"google_analytics_monthly_comparison_stats\", \"name\": \"google_analytics_monthly_comparison_stats\", \"_file_path\": \"/home/aphethean/projects/test-meltano/creativeskills-test/.meltano/models/model-google-analytics/venv/lib/python3.7/site-packages/models/google_analytics_monthly_comparison_stats.table.m5o\"}, \"description\": \"Monthly Comparison Stats\", \"graph\": {\"directed\": true, \"multigraph\": false, \"graph\": {}, \"nodes\": [{\"id\": \"google_analytics_monthly_comparison_stats\"}], \"links\": []}}',\n",
              "  'query': 'SELECT EXTRACT(\\'YEAR\\' FROM \"google_analytics_monthly_comparison_stats\".\"month_start\") \"google_analytics_monthly_comparison_stats.month_start.year\",EXTRACT(\\'MONTH\\' FROM \"google_analytics_monthly_comparison_stats\".\"month_start\") \"google_analytics_monthly_comparison_stats.month_start.month\",COALESCE(AVG(\"google_analytics_monthly_comparison_stats\".\"users_increase_percent\"),0) \"google_analytics_monthly_comparison_stats.avg_users_incr\",COALESCE(AVG(\"google_analytics_monthly_comparison_stats\".\"new_users_increase_percent\"),0) \"google_analytics_monthly_comparison_stats.avg_new_users_incr\",COALESCE(AVG(\"google_analytics_monthly_comparison_stats\".\"sessions_increase_percent\"),0) \"google_analytics_monthly_comparison_stats.avg_sessions_incr\",COALESCE(AVG(\"google_analytics_monthly_comparison_stats\".\"bounce_rate_increase_percent\"),0) \"google_analytics_monthly_comparison_stats.avg_bounce_rate_incr\",COALESCE(AVG(\"google_analytics_monthly_comparison_stats\".\"avg_session_duration_increase_percent\"),0) \"google_analytics_monthly_comparison_stats.avg_session_dur_incr\" FROM \"google_analytics_monthly_comparison_stats\" \"google_analytics_monthly_comparison_stats\" WHERE \"google_analytics_monthly_comparison_stats\".\"month_start\">=DATE(DATE(NOW())-INTERVAL \\'366 DAY\\') AND \"google_analytics_monthly_comparison_stats\".\"month_start\"<=DATE(DATE(NOW())-INTERVAL \\'1 DAY\\') AND \"google_analytics_monthly_comparison_stats\".\"month_start\">=DATE(DATE(NOW())-INTERVAL \\'366 DAY\\') AND \"google_analytics_monthly_comparison_stats\".\"month_start\"<=DATE(DATE(NOW())-INTERVAL \\'1 DAY\\') GROUP BY \"google_analytics_monthly_comparison_stats.month_start.year\",\"google_analytics_monthly_comparison_stats.month_start.month\" ORDER BY \"google_analytics_monthly_comparison_stats.month_start.year\" ASC,\"google_analytics_monthly_comparison_stats.month_start.month\" ASC LIMIT 50;',\n",
              "  'questions': 'How many Earth-years does it take for Jupiter to orbit the sun?',\n",
              "  'title': 'query test 2',\n",
              "  'visualisation': '{\"chartjs-chart\": {\"chartType\": \"line\"}}'}}"
            ]
          },
          "metadata": {
            "tags": []
          },
          "execution_count": 2
        }
      ]
    },
    {
      "cell_type": "markdown",
      "metadata": {
        "id": "8G1n1VX7tPmG",
        "colab_type": "text"
      },
      "source": [
        "Publish the dataset(s) using a `MatatikaClient` object"
      ]
    },
    {
      "cell_type": "code",
      "metadata": {
        "id": "baMjrqXaNJVi",
        "colab_type": "code",
        "colab": {
          "base_uri": "https://localhost:8080/",
          "height": 34
        },
        "outputId": "d6342973-0ed0-456c-965c-a813635b29c0"
      },
      "source": [
        "!matatika --version"
      ],
      "execution_count": null,
      "outputs": [
        {
          "output_type": "stream",
          "text": [
            "matatika, version 1.0.7.post2\n"
          ],
          "name": "stdout"
        }
      ]
    },
    {
      "cell_type": "code",
      "metadata": {
        "id": "A7pfurWn5Bni",
        "colab_type": "code",
        "colab": {}
      },
      "source": [
        "from matatika.library import MatatikaClient\n",
        "\n",
        "auth_token = '[your token]'\n",
        "endpoint_url = 'https://catalog.matatika.com/api'\n",
        "workspace_id = '[your workspace id]'\n",
        "\n",
        "# configure the client\n",
        "matatika = MatatikaClient(auth_token, endpoint_url, workspace_id)\n",
        "#matatika.list_workspaces()\n",
        "\n",
        "# publish the dataset(s)\n",
        "matatika.publish(datasets)"
      ],
      "execution_count": null,
      "outputs": []
    }
  ]
}