{
 "cells": [
  {
   "cell_type": "markdown",
   "metadata": {
    "id": "zY-hGDHju8Nv"
   },
   "source": [
    "Install matatika"
   ]
  },
  {
   "cell_type": "code",
   "execution_count": 4,
   "metadata": {
    "id": "WsMDv417JwUq"
   },
   "outputs": [],
   "source": [
    "%%capture\n",
    "%pip install matatika -U"
   ]
  },
  {
   "cell_type": "markdown",
   "metadata": {
    "id": "23Jy-_4GLL5z"
   },
   "source": [
    "Create `rawData` using a list of lists"
   ]
  },
  {
   "cell_type": "code",
   "execution_count": 3,
   "metadata": {
    "colab": {
     "base_uri": "https://localhost:8080/",
     "height": 122
    },
    "id": "N4_ISqmmJyOE",
    "outputId": "3bd99485-178e-4497-aa8f-ee3ca3273474"
   },
   "outputs": [
    {
     "data": {
      "text/plain": [
       "{'planet-orbits': {'description': '\\n        ',\n",
       "  'questions': 'How many Earth-years does it take for Jupiter to orbit the sun?',\n",
       "  'rawData': '[[\"Planet\", \"Orbit Distance (Light-hours)\", \"Orbit Duration (Earth-years)\"], [\"Mercury\", 0.3336, 0.25], [\"Venus\", 0.63, 0.5833], [\"Earth\", 0.8708, 1], [\"Mars\", 1.3242, 1.9167], [\"Jupiter\", 4.5287, 11.8333], [\"Saturn\", 8.2997, 29.5], [\"Uranus\", 16.703, 84.0833], [\"Neptune\", 26.1883, 164.9167], [\"Pluto\", 33.8475, 248.0833]]',\n",
       "  'title': 'Planet Orbits in Our Solar System',\n",
       "  'visualisation': '{\"google-chart\": {\"chartType\": \"ColumnChart\"}}'}}"
      ]
     },
     "execution_count": 3,
     "metadata": {
      "tags": []
     },
     "output_type": "execute_result"
    }
   ],
   "source": [
    "rawData = [\n",
    "           [\"Planet\", \"Orbit Distance (Light-hours)\",\"Orbit Duration (Earth-years)\"],\n",
    "           [\"Mercury\", 0.3336, 0.2500],\n",
    "           [\"Venus\", 0.6300, 0.5833],\n",
    "           [\"Earth\", 0.8708, 1],\n",
    "           [\"Mars\", 1.3242, 1.9167],\n",
    "           [\"Jupiter\", 4.5287, 11.8333],\n",
    "           [\"Saturn\", 8.2997, 29.5000],\n",
    "           [\"Uranus\", 16.7030, 84.0833],\n",
    "           [\"Neptune\", 26.1883, 164.9167],\n",
    "           [\"Pluto\", 33.8475, 248.0833]\n",
    "]\n",
    "\n",
    "import json\n",
    "\n",
    "datasets = {\n",
    "    \n",
    "    'planet-orbits': {\n",
    "        'title': 'Planet Orbits in Our Solar System',\n",
    "        'description': '''\n",
    "        ''',\n",
    "        'questions': 'How many Earth-years does it take for Jupiter to orbit the sun?',\n",
    "        'rawData': json.dumps(rawData),\n",
    "        'visualisation': json.dumps({\n",
    "            'google-chart': {\n",
    "                'chartType': 'ColumnChart'\n",
    "            }\n",
    "        })\n",
    "    },\n",
    "\n",
    "}\n",
    "\n",
    "datasets"
   ]
  },
  {
   "cell_type": "markdown",
   "metadata": {
    "id": "8G1n1VX7tPmG"
   },
   "source": [
    "Publish the dataset(s) using a `MatatikaClient` object"
   ]
  },
  {
   "cell_type": "code",
   "execution_count": null,
   "metadata": {
    "colab": {
     "base_uri": "https://localhost:8080/",
     "height": 34
    },
    "id": "baMjrqXaNJVi",
    "outputId": "e6cfc230-808a-40cd-995c-9d86fdac6420"
   },
   "outputs": [
    {
     "name": "stdout",
     "output_type": "stream",
     "text": [
      "matatika, version 1.0.7.post2\n"
     ]
    }
   ],
   "source": [
    "!matatika --version"
   ]
  },
  {
   "cell_type": "code",
   "execution_count": null,
   "metadata": {
    "id": "A7pfurWn5Bni"
   },
   "outputs": [],
   "source": [
    "from matatika.library import MatatikaClient\n",
    "\n",
    "auth_token = '[your token]'\n",
    "endpoint_url = 'https://catalog.matatika.com/api'\n",
    "workspace_id = '[your workspace id]'\n",
    "\n",
    "# configure the client\n",
    "matatika = MatatikaClient(auth_token, endpoint_url, workspace_id)\n",
    "#matatika.list_workspaces()\n",
    "\n",
    "# publish the dataset(s)\n",
    "matatika.publish(datasets)"
   ]
  }
 ],
 "metadata": {
  "colab": {
   "collapsed_sections": [],
   "include_colab_link": true,
   "name": "simple-jupyter-publish.ipynb",
   "provenance": [],
   "toc_visible": true
  },
  "kernelspec": {
   "display_name": "Python 3",
   "language": "python",
   "name": "python3"
  },
  "language_info": {
   "codemirror_mode": {
    "name": "ipython",
    "version": 3
   },
   "file_extension": ".py",
   "mimetype": "text/x-python",
   "name": "python",
   "nbconvert_exporter": "python",
   "pygments_lexer": "ipython3",
   "version": "3.8.8"
  }
 },
 "nbformat": 4,
 "nbformat_minor": 1
}
