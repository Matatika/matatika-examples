{
 "cells": [
  {
   "cell_type": "markdown",
   "metadata": {
    "id": "zY-hGDHju8Nv"
   },
   "source": [
    "Install matatika"
   ]
  },
  {
   "cell_type": "code",
   "execution_count": 4,
   "metadata": {
    "id": "WsMDv417JwUq"
   },
   "outputs": [],
   "source": [
    "%%capture\n",
    "%pip install matatika -U\n",
    "import json\n",
    "from matatika.dataset import Dataset"
   ]
  },
  {
   "cell_type": "markdown",
   "metadata": {
    "id": "23Jy-_4GLL5z"
   },
   "source": [
    "`raw_data` explanation:\n",
    "\n",
    "The dictionary keys in the raw_data below are \"table_name\".\"column_name\". \n",
    "\n",
    "We then use the \"table_name\" as the \"name\" in the dataset's metadata, and the \"column_name\" as the \"name\" to select which columns and aggregates to display."
   ]
  },
  {
   "cell_type": "code",
   "execution_count": 113,
   "metadata": {},
   "outputs": [],
   "source": [
    "raw_data = [\n",
    "    {\"planet.name\": \"Mercury\", \"planet.orbitduration\": 0.25},\n",
    "    {\"planet.name\": \"Venus\", \"planet.orbitduration\": 0.5833},\n",
    "    {\"planet.name\": \"Earth\", \"planet.orbitduration\": 1},\n",
    "    {\"planet.name\": \"Mars\", \"planet.orbitduration\": 1.9167},\n",
    "    {\"planet.name\": \"Jupiter\", \"planet.orbitduration\": 11.8333},\n",
    "    {\"planet.name\": \"Saturn\", \"planet.orbitduration\": 29.5},\n",
    "    {\"planet.name\": \"Uranus\", \"planet.orbitduration\": 84.0833},\n",
    "    {\"planet.name\": \"Neptune\", \"planet.orbitduration\": 164.9167}\n",
    " ]\n",
    "\n",
    "\n",
    "metadata = {\n",
    "    \"name\": \"planet\",\n",
    "    \"label\": \"Bar chart global link to dataset\", \n",
    "    \"related_table\": {\n",
    "      \"columns\": [\n",
    "        {\"name\": \"name\", \"label\": \"Planet Name\", \"description\": \"Planet Name\"}\n",
    "      ], \n",
    "      \"aggregates\": [\n",
    "        {\"name\": \"orbitduration\", \"label\": \"Orbit Duration (Earth Years)\", \"description\": \"Orbit Duration (Earth Years)\"}\n",
    "      ]\n",
    "    }\n",
    "  }\n",
    "\n",
    "# Create your dataset object.\n",
    "my_dataset = Dataset()\n",
    "\n",
    "# Assigned your values to your dataset object.\n",
    "my_dataset.alias = 'Planet Orbits'\n",
    "my_dataset.title = 'Planet Orbits'\n",
    "my_dataset.description = 'The orbits of the planets in earth years. #PlanetOrbits'\n",
    "my_dataset.questions = 'What time do the planets take to orbit in earth years?'\n",
    "my_dataset.raw_data = json.dumps(raw_data)\n",
    "my_dataset.visualisation = '{\"chartjs-chart\": {\"chartType\": \"bar\"}}'\n",
    "my_dataset.metadata = json.dumps(metadata)\n",
    "\n",
    "\n",
    "# By default the publisher expects a list of datasets.\n",
    "datasets = []\n",
    "\n",
    "datasets.append(my_dataset)"
   ]
  },
  {
   "cell_type": "markdown",
   "metadata": {
    "id": "8G1n1VX7tPmG"
   },
   "source": [
    "Publish the dataset(s) using a `MatatikaClient` object"
   ]
  },
  {
   "cell_type": "code",
   "execution_count": 114,
   "metadata": {
    "id": "A7pfurWn5Bni"
   },
   "outputs": [
    {
     "data": {
      "text/plain": [
       "[(Dataset(dataset_id='f5b61555-8c5b-4587-a8b8-47a2a9052e45', alias='Planet Orbits', workspace_id='1fd4fd86-480c-4009-858d-7276845972f0', source='dwalker@matatika.com Channel', title='Planet Orbits', description='The orbits of the planets in earth years. #PlanetOrbits', questions='What time do the planets take to orbit in earth years?', raw_data='[{\"planet.name\": \"Mercury\", \"planet.orbitduration\": 0.25}, {\"planet.name\": \"Venus\", \"planet.orbitduration\": 0.5833}, {\"planet.name\": \"Earth\", \"planet.orbitduration\": 1}, {\"planet.name\": \"Mars\", \"planet.orbitduration\": 1.9167}, {\"planet.name\": \"Jupiter\", \"planet.orbitduration\": 11.8333}, {\"planet.name\": \"Saturn\", \"planet.orbitduration\": 29.5}, {\"planet.name\": \"Uranus\", \"planet.orbitduration\": 84.0833}, {\"planet.name\": \"Neptune\", \"planet.orbitduration\": 164.9167}]', visualisation='{\"chartjs-chart\": {\"chartType\": \"bar\"}}', metadata='{\"name\": \"planet\", \"label\": \"Bar chart global link to dataset\", \"related_table\": {\"columns\": [{\"name\": \"name\", \"label\": \"Planet Name\", \"description\": \"Planet Name\"}], \"aggregates\": [{\"name\": \"orbitduration\", \"label\": \"Orbit Duration (Earth Years)\", \"description\": \"Orbit Duration (Earth Years)\"}]}}', query=None),\n",
       "  200)]"
      ]
     },
     "execution_count": 114,
     "metadata": {},
     "output_type": "execute_result"
    }
   ],
   "source": [
    "from matatika.library import MatatikaClient\n",
    "\n",
    "auth_token = '[your token]'\n",
    "endpoint_url = 'https://catalog.matatika.com/api'\n",
    "workspace_id = '[your workspace id]'\n",
    "\n",
    "# configure the client\n",
    "matatika = MatatikaClient(auth_token, endpoint_url, workspace_id)\n",
    "#matatika.list_workspaces()\n",
    "\n",
    "# publish the dataset(s)\n",
    "matatika.publish(datasets)"
   ]
  }
 ],
 "metadata": {
  "colab": {
   "collapsed_sections": [],
   "include_colab_link": true,
   "name": "simple-jupyter-publish.ipynb",
   "provenance": [],
   "toc_visible": true
  },
  "kernelspec": {
   "display_name": "Python 3",
   "language": "python",
   "name": "python3"
  },
  "language_info": {
   "codemirror_mode": {
    "name": "ipython",
    "version": 3
   },
   "file_extension": ".py",
   "mimetype": "text/x-python",
   "name": "python",
   "nbconvert_exporter": "python",
   "pygments_lexer": "ipython3",
   "version": "3.8.8"
  }
 },
 "nbformat": 4,
 "nbformat_minor": 1
}
