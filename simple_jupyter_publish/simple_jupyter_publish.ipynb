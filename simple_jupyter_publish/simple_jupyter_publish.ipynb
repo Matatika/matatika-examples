{
  "nbformat": 4,
  "nbformat_minor": 0,
  "metadata": {
    "colab": {
      "name": "simple-jupyter-publish.ipynb",
      "provenance": [],
      "collapsed_sections": [],
      "toc_visible": true,
      "include_colab_link": true
    },
    "kernelspec": {
      "name": "python3",
      "display_name": "Python 3"
    }
  },
  "cells": [
    {
      "cell_type": "markdown",
      "metadata": {
        "id": "view-in-github",
        "colab_type": "text"
      },
      "source": [
        "<a href=\"https://colab.research.google.com/github/Matatika/matatika-examples/blob/master/simple_jupyter_publish/simple_jupyter_publish.ipynb\" target=\"_parent\"><img src=\"https://colab.research.google.com/assets/colab-badge.svg\" alt=\"Open In Colab\"/></a>"
      ]
    },
    {
      "cell_type": "markdown",
      "metadata": {
        "id": "zY-hGDHju8Nv"
      },
      "source": [
        "Install matatika"
      ]
    },
    {
      "cell_type": "code",
      "metadata": {
        "id": "WsMDv417JwUq"
      },
      "source": [
        "%%capture\n",
        "%pip install matatika -U"
      ],
      "execution_count": 4,
      "outputs": []
    },
    {
      "cell_type": "markdown",
      "metadata": {
        "id": "23Jy-_4GLL5z"
      },
      "source": [
        "Create `rawData` using a list of lists"
      ]
    },
    {
      "cell_type": "code",
      "metadata": {
        "id": "N4_ISqmmJyOE",
        "outputId": "3bd99485-178e-4497-aa8f-ee3ca3273474",
        "colab": {
          "base_uri": "https://localhost:8080/",
          "height": 122
        }
      },
      "source": [
        "rawData = [\n",
        "           [\"Planet\", \"Orbit Distance (Light-hours)\",\"Orbit Duration (Earth-years)\"],\n",
        "           [\"Mercury\", 0.3336, 0.2500],\n",
        "           [\"Venus\", 0.6300, 0.5833],\n",
        "           [\"Earth\", 0.8708, 1],\n",
        "           [\"Mars\", 1.3242, 1.9167],\n",
        "           [\"Jupiter\", 4.5287, 11.8333],\n",
        "           [\"Saturn\", 8.2997, 29.5000],\n",
        "           [\"Uranus\", 16.7030, 84.0833],\n",
        "           [\"Neptune\", 26.1883, 164.9167],\n",
        "           [\"Pluto\", 33.8475, 248.0833]\n",
        "]\n",
        "\n",
        "import json\n",
        "\n",
        "datasets = {\n",
        "    \n",
        "    'planet-orbits': {\n",
        "        'title': 'Planet Orbits in Our Solar System',\n",
        "        'description': '''\n",
        "        ''',\n",
        "        'questions': 'How many Earth-years does it take for Jupiter to orbit the sun?',\n",
        "        'rawData': json.dumps(rawData),\n",
        "        'visualisation': json.dumps({\n",
        "            'google-chart': {\n",
        "                'chartType': 'ColumnChart'\n",
        "            }\n",
        "        })\n",
        "    },\n",
        "\n",
        "}\n",
        "\n",
        "datasets"
      ],
      "execution_count": 3,
      "outputs": [
        {
          "output_type": "execute_result",
          "data": {
            "text/plain": [
              "{'planet-orbits': {'description': '\\n        ',\n",
              "  'questions': 'How many Earth-years does it take for Jupiter to orbit the sun?',\n",
              "  'rawData': '[[\"Planet\", \"Orbit Distance (Light-hours)\", \"Orbit Duration (Earth-years)\"], [\"Mercury\", 0.3336, 0.25], [\"Venus\", 0.63, 0.5833], [\"Earth\", 0.8708, 1], [\"Mars\", 1.3242, 1.9167], [\"Jupiter\", 4.5287, 11.8333], [\"Saturn\", 8.2997, 29.5], [\"Uranus\", 16.703, 84.0833], [\"Neptune\", 26.1883, 164.9167], [\"Pluto\", 33.8475, 248.0833]]',\n",
              "  'title': 'Planet Orbits in Our Solar System',\n",
              "  'visualisation': '{\"google-chart\": {\"chartType\": \"ColumnChart\"}}'}}"
            ]
          },
          "metadata": {
            "tags": []
          },
          "execution_count": 3
        }
      ]
    },
    {
      "cell_type": "markdown",
      "metadata": {
        "id": "8G1n1VX7tPmG"
      },
      "source": [
        "Publish the dataset(s) using a `MatatikaClient` object"
      ]
    },
    {
      "cell_type": "code",
      "metadata": {
        "id": "baMjrqXaNJVi",
        "outputId": "e6cfc230-808a-40cd-995c-9d86fdac6420",
        "colab": {
          "base_uri": "https://localhost:8080/",
          "height": 34
        }
      },
      "source": [
        "!matatika --version"
      ],
      "execution_count": null,
      "outputs": [
        {
          "output_type": "stream",
          "text": [
            "matatika, version 1.0.7.post2\n"
          ],
          "name": "stdout"
        }
      ]
    },
    {
      "cell_type": "code",
      "metadata": {
        "id": "A7pfurWn5Bni"
      },
      "source": [
        "from matatika.library import MatatikaClient\n",
        "\n",
        "auth_token = '[your token]'\n",
        "endpoint_url = 'https://catalog.matatika.com/api'\n",
        "workspace_id = '[your workspace id]'\n",
        "\n",
        "# configure the client\n",
        "matatika = MatatikaClient(auth_token, endpoint_url, workspace_id)\n",
        "#matatika.list_workspaces()\n",
        "\n",
        "# publish the dataset(s)\n",
        "matatika.publish(datasets)"
      ],
      "execution_count": null,
      "outputs": []
    }
  ]
}